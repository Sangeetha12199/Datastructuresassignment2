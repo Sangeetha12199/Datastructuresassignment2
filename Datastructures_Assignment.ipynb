{
  "nbformat": 4,
  "nbformat_minor": 0,
  "metadata": {
    "colab": {
      "provenance": []
    },
    "kernelspec": {
      "name": "python3",
      "display_name": "Python 3"
    },
    "language_info": {
      "name": "python"
    }
  },
  "cells": [
    {
      "cell_type": "markdown",
      "source": [],
      "metadata": {
        "id": "cvhheVJRsZiX"
      }
    },
    {
      "cell_type": "markdown",
      "source": [
        "1. What are data structures, and why are they important?\n",
        "- Data Structures are the way to store data in an efficient manner,so that we can access and manuipulate the data.\n",
        "\n",
        "2.  Explain the difference between mutable and immutable data types with examples?.\n",
        "- Mutable data types are changeable where as immutable data types cannot be changed.\n",
        "\n",
        "3. What are the main differences between lists and tuples in Python?\n",
        "- List are mutable and Tuples are immutable\n",
        "- Lists are slow compared to Tuple due to dynamic typing\n",
        "- List are represented using square brackets and tuples are represented using parantheses .\n",
        "-Lists uses more memory where as tuple uses less memory.\n",
        "\n",
        "4. Describe how dictionaries store data?\n",
        "- Dictionaries stores the data in the key value pairs where keys are unique.\n",
        "\n",
        "5. Why might you use a set instead of a list in Python?\n",
        "- When you need a data structure with unique values we might use set instead of list.\n",
        "\n",
        "6.What is a string in Python, and how is it different from a list?\n",
        "- String is sequence of characters enclosed in quotes.\n",
        " - A list in Python is a collection of items (which can be of any data type) enclosed in square brackets []. Lists are used to store multiple values in a single variable.\n",
        " - We use strings when we work with text whereas list can be used  when you need a collection of items and plan to modify them.\n",
        "\n",
        "7. How do tuples ensure data integrity in Python?\n",
        "- Tuples ensure data integrity in Python by being immutable, meaning their elements cannot be changed, added, or removed after the tuple is created\n",
        "\n",
        "8. What is a hash table, and how does it relate to dictionaries in Python?\n",
        "- A hash table is a data structure that stores data in key-value pairs, and it provides fast access to values based on their keys.\n",
        "-Python dictionaries are implemented using hash tables behind the scenes.\n",
        "\n",
        "Example : my_dict = {\"apple\": 100, \"banana\": 200}\n",
        "-Calculates a hash for \"apple\"\n",
        "Finds an index in the internal array\n",
        "Stores the key-value pair at that index\n",
        "\n",
        "9. Can lists contain different data types in Python?\n",
        "- Yes, lists can contain different data types in python.\n",
        "\n",
        "10. Explain why strings are immutable in Python?\n",
        "- Strings are immutable in Python to ensure efficiency, safety, consistency, and reliable behavior, especially when dealing with shared data and built-in data structures.\n",
        "\n",
        "11. What advantages do dictionaries offer over lists for certain tasks?\n",
        "- Following are the advantages.\n",
        "1. Fast Lookup by Key\n",
        "2.Clear Key-Value Pairing\n",
        "3.Uniqueness of Keys\n",
        "4.More Expressive and Descriptive\n",
        "\n",
        "\n",
        "12. Describe a scenario where using a tuple would be preferable over a list?\n",
        "  - We can use tuple data structure in a scenario where we want to store the employee ids of the an organization as we will not modify the employee ids in an organization.\n",
        "\n",
        "13. How do sets handle duplicate values in Python?\n",
        "- When you create a set, Python uses a hash table to store the elements.\n",
        "-Each element is hashed (using Python’s hash() function).\n",
        "-If two elements have the same value and hash, Python considers them duplicates and keeps only one.\n",
        "\n",
        "14. How does the “in” keyword work differently for lists and dictionaries?\n",
        "\n",
        "- In List in operator   checks whether a value exists as an element in the list whereas in operator in dictionary check if a key is present in dictionary or not.\n",
        "-To check for the values in dictionary , we can use .values() with in.\n",
        "\n",
        "15.Can you modify the elements of a tuple? Explain why or why not?\n",
        "- We cannot modify the elements of a tuple as tuple is an immutable data structure.\n",
        "\n",
        "16. What is a nested dictionary, and give an example of its use case?\n",
        "- Having a dictionary insides a dictionary is called nested dictionary.\n",
        "- An organization stores the details of an employees in dictionary data structure.\n",
        "- example Tcs_emp_details ={'E001':{'name' : 'sangeetha','dept' : IT, 'salary': 800000},'E001':{'name' : 'Shiv','dept' : Finanace, 'salary': 1000000}}\n",
        "\n",
        "17. Describe the time complexity of accessing elements in a dictionary?\n",
        "- Accessing elements in a Python dictionary by key has an average-case time complexity of:\n",
        " O(1) — Constant Time\n",
        "\n",
        "18. In what situations are lists preferred over dictionaries?\n",
        "-Lists are preferred over Dictionaries when\n",
        "Order and indexing matter.\n",
        "You don’t need key-value pairs.\n",
        "You allow duplicates.\n",
        "You’re working with sequences of simple items.\n",
        "\n",
        "19. Why are dictionaries considered unordered, and how does that affect data retrieval?\n",
        "- Dictionaries were originally considered unordered because their internal storage didn't preserve insertion order.\n",
        "- Since Python 3.7, insertion order is preserved, but dictionaries are still not accessed by index.\n",
        "- This does not affect retrieval by key, which remains fast and reliable using hashing\n",
        "\n",
        "20. Explain the difference between a list and a dictionary in terms of data retrieval?\n",
        "- List elements are retrived with indexing where as the dictionary elemets are retrieved with keys as we have customized indexing in dictionaries."
      ],
      "metadata": {
        "id": "jBIM9uEpsiUZ"
      }
    },
    {
      "cell_type": "markdown",
      "source": [
        "Practical Questions:"
      ],
      "metadata": {
        "id": "QBXFSV2f1z31"
      }
    },
    {
      "cell_type": "markdown",
      "source": [
        "1. Write a code to create a string with your name and print it"
      ],
      "metadata": {
        "id": "-nbpQ6OqkC4I"
      }
    },
    {
      "cell_type": "code",
      "execution_count": 1,
      "metadata": {
        "colab": {
          "base_uri": "https://localhost:8080/"
        },
        "id": "Csa0yPEqsTSP",
        "outputId": "859ecc4f-b6ee-4498-b8d5-0ebd2841acca"
      },
      "outputs": [
        {
          "output_type": "stream",
          "name": "stdout",
          "text": [
            "Sangeetha\n"
          ]
        }
      ],
      "source": [
        "my_name = 'Sangeetha'\n",
        "print(my_name)"
      ]
    },
    {
      "cell_type": "markdown",
      "source": [
        "2.Write a code to find the length of the string \"Hello World\""
      ],
      "metadata": {
        "id": "UeDaANMAkYF6"
      }
    },
    {
      "cell_type": "code",
      "source": [
        "string1 = 'Hello World'\n",
        "print(len(string1))"
      ],
      "metadata": {
        "colab": {
          "base_uri": "https://localhost:8080/"
        },
        "id": "WD8JpHN5kfpv",
        "outputId": "e36b1658-a34d-4f80-fbf2-18afc262c715"
      },
      "execution_count": 2,
      "outputs": [
        {
          "output_type": "stream",
          "name": "stdout",
          "text": [
            "11\n"
          ]
        }
      ]
    },
    {
      "cell_type": "markdown",
      "source": [
        "3.Write a code to slice the first 3 characters from the string \"Python Programming\""
      ],
      "metadata": {
        "id": "NqrxfNl0lLRq"
      }
    },
    {
      "cell_type": "code",
      "source": [
        "string2 = \"Python Programming\"\n",
        "string2[0:3]"
      ],
      "metadata": {
        "colab": {
          "base_uri": "https://localhost:8080/",
          "height": 35
        },
        "id": "LrgDnvuElNOZ",
        "outputId": "2ae08261-1cc1-4f1d-f0f8-319050ac849f"
      },
      "execution_count": 4,
      "outputs": [
        {
          "output_type": "execute_result",
          "data": {
            "text/plain": [
              "'Pyt'"
            ],
            "application/vnd.google.colaboratory.intrinsic+json": {
              "type": "string"
            }
          },
          "metadata": {},
          "execution_count": 4
        }
      ]
    },
    {
      "cell_type": "markdown",
      "source": [
        "4.Write a code to convert the string \"hello\" to uppercase"
      ],
      "metadata": {
        "id": "WooYikitl8ap"
      }
    },
    {
      "cell_type": "code",
      "source": [
        "string = \"hello\"\n",
        "string.upper()"
      ],
      "metadata": {
        "colab": {
          "base_uri": "https://localhost:8080/",
          "height": 35
        },
        "id": "ujpavzwNlaka",
        "outputId": "7334ff6f-b218-418c-f04e-7a78cfc1ff7d"
      },
      "execution_count": 5,
      "outputs": [
        {
          "output_type": "execute_result",
          "data": {
            "text/plain": [
              "'HELLO'"
            ],
            "application/vnd.google.colaboratory.intrinsic+json": {
              "type": "string"
            }
          },
          "metadata": {},
          "execution_count": 5
        }
      ]
    },
    {
      "cell_type": "markdown",
      "source": [
        "5.Write a code to replace the word \"apple\" with \"orange\" in the string \"I like apple\""
      ],
      "metadata": {
        "id": "25C_ao3jmLBy"
      }
    },
    {
      "cell_type": "code",
      "source": [
        "sentence = \"i like apple\"\n",
        "sentence.replace('apple','orange')\n"
      ],
      "metadata": {
        "colab": {
          "base_uri": "https://localhost:8080/",
          "height": 35
        },
        "id": "waAkOUHrmQNN",
        "outputId": "b616ac84-7a1e-4991-b34a-a3c960bf8196"
      },
      "execution_count": 6,
      "outputs": [
        {
          "output_type": "execute_result",
          "data": {
            "text/plain": [
              "'i like orange'"
            ],
            "application/vnd.google.colaboratory.intrinsic+json": {
              "type": "string"
            }
          },
          "metadata": {},
          "execution_count": 6
        }
      ]
    },
    {
      "cell_type": "markdown",
      "source": [
        "6.Write a code to create a list with numbers 1 to 5 and print it"
      ],
      "metadata": {
        "id": "9GtMkD3Amw4e"
      }
    },
    {
      "cell_type": "code",
      "source": [
        "lis1 =[1,2,3,4,5]\n",
        "print(lis1)"
      ],
      "metadata": {
        "colab": {
          "base_uri": "https://localhost:8080/"
        },
        "id": "uIIxoaHCm4p5",
        "outputId": "d7187092-c96d-4a42-cff7-8c7aa9a284ea"
      },
      "execution_count": 7,
      "outputs": [
        {
          "output_type": "stream",
          "name": "stdout",
          "text": [
            "[1, 2, 3, 4, 5]\n"
          ]
        }
      ]
    },
    {
      "cell_type": "markdown",
      "source": [
        "7.Write a code to append the number 10 to the list [1, 2, 3, 4]"
      ],
      "metadata": {
        "id": "VvkbSi1_nKi8"
      }
    },
    {
      "cell_type": "code",
      "source": [
        "lis = [1,2,3,4]\n",
        "lis.append(10)\n",
        "print(lis)"
      ],
      "metadata": {
        "colab": {
          "base_uri": "https://localhost:8080/"
        },
        "id": "17MxQU2Kna8G",
        "outputId": "6f705cad-7569-480b-fba9-f60203231f59"
      },
      "execution_count": 10,
      "outputs": [
        {
          "output_type": "stream",
          "name": "stdout",
          "text": [
            "[1, 2, 3, 4, 10]\n"
          ]
        }
      ]
    },
    {
      "cell_type": "markdown",
      "source": [
        "8.Write a code to remove the number 3 from the list [1, 2, 3, 4, 5]"
      ],
      "metadata": {
        "id": "gQEaxczbnfJF"
      }
    },
    {
      "cell_type": "code",
      "source": [
        "lis2=[1,2,3,4,5]\n",
        "lis2.remove(3)\n",
        "print(lis2)"
      ],
      "metadata": {
        "colab": {
          "base_uri": "https://localhost:8080/"
        },
        "id": "4NsujpL1njGG",
        "outputId": "f0b62623-2eaa-420c-df94-15a0837feb9e"
      },
      "execution_count": 12,
      "outputs": [
        {
          "output_type": "stream",
          "name": "stdout",
          "text": [
            "[1, 2, 4, 5]\n"
          ]
        }
      ]
    },
    {
      "cell_type": "markdown",
      "source": [
        "9.Write a code to access the second element in the list ['a', 'b', 'c', 'd']\n"
      ],
      "metadata": {
        "id": "QMqCtvf3ntPa"
      }
    },
    {
      "cell_type": "code",
      "source": [
        "lis3=['a', 'b', 'c', 'd']\n",
        "lis3[1]"
      ],
      "metadata": {
        "colab": {
          "base_uri": "https://localhost:8080/",
          "height": 35
        },
        "id": "HXAFC88ln_09",
        "outputId": "cee09674-046d-4a76-bb36-449ad3f09b7e"
      },
      "execution_count": 13,
      "outputs": [
        {
          "output_type": "execute_result",
          "data": {
            "text/plain": [
              "'b'"
            ],
            "application/vnd.google.colaboratory.intrinsic+json": {
              "type": "string"
            }
          },
          "metadata": {},
          "execution_count": 13
        }
      ]
    },
    {
      "cell_type": "markdown",
      "source": [
        "10.Write a code to reverse the list [10, 20, 30, 40, 50]."
      ],
      "metadata": {
        "id": "0tjZoQeHoDu5"
      }
    },
    {
      "cell_type": "code",
      "source": [
        "lis4=[10,20,30,40,50]\n",
        "lis4.reverse()\n",
        "print(lis4)\n",
        "\n",
        "\n",
        "lis5=[10,20,30,40,50]\n",
        "lis5[::-1]\n",
        "\n",
        "\n"
      ],
      "metadata": {
        "colab": {
          "base_uri": "https://localhost:8080/"
        },
        "id": "iAfaWbcvoJSE",
        "outputId": "d6329edf-bfab-40cb-b224-0e3e7edbaf80"
      },
      "execution_count": 17,
      "outputs": [
        {
          "output_type": "stream",
          "name": "stdout",
          "text": [
            "[50, 40, 30, 20, 10]\n"
          ]
        },
        {
          "output_type": "execute_result",
          "data": {
            "text/plain": [
              "[50, 40, 30, 20, 10]"
            ]
          },
          "metadata": {},
          "execution_count": 17
        }
      ]
    },
    {
      "cell_type": "markdown",
      "source": [
        "11.Write a code to create a tuple with the elements 100, 200, 300 and print it"
      ],
      "metadata": {
        "id": "YpXg_1dHohS9"
      }
    },
    {
      "cell_type": "code",
      "source": [
        "t = (100,200,300)\n",
        "print(t)"
      ],
      "metadata": {
        "colab": {
          "base_uri": "https://localhost:8080/"
        },
        "id": "52xOVzJaoleP",
        "outputId": "7a616e6a-753b-4c7d-bb61-ebb9e817116d"
      },
      "execution_count": 18,
      "outputs": [
        {
          "output_type": "stream",
          "name": "stdout",
          "text": [
            "(100, 200, 300)\n"
          ]
        }
      ]
    },
    {
      "cell_type": "markdown",
      "source": [
        "12.Write a code to access the second-to-last element of the tuple ('red', 'green', 'blue', 'yellow')."
      ],
      "metadata": {
        "id": "zs559oXWosp7"
      }
    },
    {
      "cell_type": "code",
      "source": [
        "t1=('red', 'green', 'blue', 'yellow')\n",
        "t1[1:]"
      ],
      "metadata": {
        "colab": {
          "base_uri": "https://localhost:8080/"
        },
        "id": "r2JV6KUxovsx",
        "outputId": "88bde385-8a27-4fb5-d6f4-099da56b8c6e"
      },
      "execution_count": 19,
      "outputs": [
        {
          "output_type": "execute_result",
          "data": {
            "text/plain": [
              "('green', 'blue', 'yellow')"
            ]
          },
          "metadata": {},
          "execution_count": 19
        }
      ]
    },
    {
      "cell_type": "markdown",
      "source": [
        "13. Write a code to find the minimum number in the tuple (10, 20, 5, 15).\n",
        "\n"
      ],
      "metadata": {
        "id": "LFyh43Qjo_E7"
      }
    },
    {
      "cell_type": "code",
      "source": [
        "t2=(10,20,5,15)\n",
        "min(t2)"
      ],
      "metadata": {
        "colab": {
          "base_uri": "https://localhost:8080/"
        },
        "id": "xu3c4TaipC3-",
        "outputId": "62497c68-6f3a-4f27-b0b5-6b5cb0d2d7d0"
      },
      "execution_count": 20,
      "outputs": [
        {
          "output_type": "execute_result",
          "data": {
            "text/plain": [
              "5"
            ]
          },
          "metadata": {},
          "execution_count": 20
        }
      ]
    },
    {
      "cell_type": "markdown",
      "source": [
        "14.Write a code to find the index of the element \"cat\" in the tuple ('dog', 'cat', 'rabbit')."
      ],
      "metadata": {
        "id": "X9mAxB6UpKqk"
      }
    },
    {
      "cell_type": "code",
      "source": [
        "t3= ('dog', 'cat', 'rabbit')\n",
        "t3.index('cat')"
      ],
      "metadata": {
        "colab": {
          "base_uri": "https://localhost:8080/"
        },
        "id": "SlLMbUZMpPU1",
        "outputId": "2750fbc9-9a67-471c-a13f-b13a96d3ae69"
      },
      "execution_count": 21,
      "outputs": [
        {
          "output_type": "execute_result",
          "data": {
            "text/plain": [
              "1"
            ]
          },
          "metadata": {},
          "execution_count": 21
        }
      ]
    },
    {
      "cell_type": "markdown",
      "source": [
        "15.Write a code to create a tuple containing three different fruits and check if \"kiwi\" is in it."
      ],
      "metadata": {
        "id": "23JUr1UQpWlt"
      }
    },
    {
      "cell_type": "code",
      "source": [
        "fruits = ('apple','banana','kiwi')\n",
        "'kiwi' in fruits\n"
      ],
      "metadata": {
        "colab": {
          "base_uri": "https://localhost:8080/"
        },
        "id": "cwr33aRmpbeI",
        "outputId": "1c13754f-a642-4d13-bf8e-f3c1db53f72f"
      },
      "execution_count": 22,
      "outputs": [
        {
          "output_type": "execute_result",
          "data": {
            "text/plain": [
              "True"
            ]
          },
          "metadata": {},
          "execution_count": 22
        }
      ]
    },
    {
      "cell_type": "markdown",
      "source": [
        "16.Write a code to create a set with the elements 'a', 'b', 'c' and print it"
      ],
      "metadata": {
        "id": "gB_XkXYDpfa4"
      }
    },
    {
      "cell_type": "code",
      "source": [
        "s = ('a','b','c')\n",
        "print(s)"
      ],
      "metadata": {
        "colab": {
          "base_uri": "https://localhost:8080/"
        },
        "id": "iYvRRpYkpj8h",
        "outputId": "56842d25-2d28-4432-af2c-381bdd000483"
      },
      "execution_count": 23,
      "outputs": [
        {
          "output_type": "stream",
          "name": "stdout",
          "text": [
            "('a', 'b', 'c')\n"
          ]
        }
      ]
    },
    {
      "cell_type": "markdown",
      "source": [
        " 17.Write a code to clear all elements from the set {1, 2, 3, 4, 5}."
      ],
      "metadata": {
        "id": "84bpjwytpqIh"
      }
    },
    {
      "cell_type": "code",
      "source": [
        "s1 = {1,2,3,4,5}\n",
        "s1.clear()\n",
        "print(s1)"
      ],
      "metadata": {
        "colab": {
          "base_uri": "https://localhost:8080/"
        },
        "id": "_042bzLKpui6",
        "outputId": "2d4e2a0a-27b3-49de-c27d-f2fab0b85038"
      },
      "execution_count": 24,
      "outputs": [
        {
          "output_type": "stream",
          "name": "stdout",
          "text": [
            "set()\n"
          ]
        }
      ]
    },
    {
      "cell_type": "markdown",
      "source": [
        "18. Write a code to remove the element 4 from the set {1, 2, 3, 4}."
      ],
      "metadata": {
        "id": "aLB3qsI4pzam"
      }
    },
    {
      "cell_type": "code",
      "source": [
        "s2 = {1,2,3,4}\n",
        "s2.remove(4)\n",
        "print(s2)"
      ],
      "metadata": {
        "colab": {
          "base_uri": "https://localhost:8080/"
        },
        "id": "m2aAkxUJp2pZ",
        "outputId": "68fb5f32-d8dc-4675-e676-3090b7394fc8"
      },
      "execution_count": 25,
      "outputs": [
        {
          "output_type": "stream",
          "name": "stdout",
          "text": [
            "{1, 2, 3}\n"
          ]
        }
      ]
    },
    {
      "cell_type": "markdown",
      "source": [
        "19.Write a code to find the union of two sets {1, 2, 3} and {3, 4, 5}."
      ],
      "metadata": {
        "id": "6CxU25jmp8HI"
      }
    },
    {
      "cell_type": "code",
      "source": [
        "u1 = {1,2,3}\n",
        "u2 = {3,4,5}\n",
        "u1 | u2"
      ],
      "metadata": {
        "colab": {
          "base_uri": "https://localhost:8080/"
        },
        "id": "2PyyY-eSqEZL",
        "outputId": "70d7ba2d-2ab2-496a-885a-2ec8c5aa74a1"
      },
      "execution_count": 26,
      "outputs": [
        {
          "output_type": "execute_result",
          "data": {
            "text/plain": [
              "{1, 2, 3, 4, 5}"
            ]
          },
          "metadata": {},
          "execution_count": 26
        }
      ]
    },
    {
      "cell_type": "markdown",
      "source": [
        "20.Write a code to find the intersection of two sets {1, 2, 3} and {2, 3, 4}.\n",
        "\n"
      ],
      "metadata": {
        "id": "-G1dqmtWqPHt"
      }
    },
    {
      "cell_type": "code",
      "source": [
        "set1 = {1,2,3}\n",
        "set2 = {2,3,4}\n",
        "set1 & set2"
      ],
      "metadata": {
        "colab": {
          "base_uri": "https://localhost:8080/"
        },
        "id": "3zyrP1m6qSul",
        "outputId": "687a72a9-270c-4a8b-8d90-b436ffd01a27"
      },
      "execution_count": 27,
      "outputs": [
        {
          "output_type": "execute_result",
          "data": {
            "text/plain": [
              "{2, 3}"
            ]
          },
          "metadata": {},
          "execution_count": 27
        }
      ]
    },
    {
      "cell_type": "markdown",
      "source": [
        "21.Write a code to create a dictionary with the keys \"name\", \"age\", and \"city\", and print it."
      ],
      "metadata": {
        "id": "xARdQBwjqcHj"
      }
    },
    {
      "cell_type": "code",
      "source": [
        "basic_details = {'name':'sangeetha','age':25,'city':'hyderabad'}\n",
        "print(basic_details)"
      ],
      "metadata": {
        "colab": {
          "base_uri": "https://localhost:8080/"
        },
        "id": "nIyVcjfAqiBZ",
        "outputId": "26c086d4-037a-4fe4-892a-58ce2dbb75fe"
      },
      "execution_count": 28,
      "outputs": [
        {
          "output_type": "stream",
          "name": "stdout",
          "text": [
            "{'name': 'sangeetha', 'age': 25, 'city': 'hyderabad'}\n"
          ]
        }
      ]
    },
    {
      "cell_type": "markdown",
      "source": [
        "22. Write a code to add a new key-value pair \"country\": \"USA\" to the dictionary {'name': 'John', 'age': 25}."
      ],
      "metadata": {
        "id": "mtiyvX3sqxdU"
      }
    },
    {
      "cell_type": "code",
      "source": [
        "basic_details = {'name':'John','age':25}\n",
        "basic_details['country'] = 'USA'\n",
        "print(basic_details)"
      ],
      "metadata": {
        "colab": {
          "base_uri": "https://localhost:8080/"
        },
        "id": "pDBoi2qDq1VS",
        "outputId": "cdea1c53-0200-4fc1-ec5a-f113474bdb89"
      },
      "execution_count": 29,
      "outputs": [
        {
          "output_type": "stream",
          "name": "stdout",
          "text": [
            "{'name': 'John', 'age': 25, 'country': 'USA'}\n"
          ]
        }
      ]
    },
    {
      "cell_type": "markdown",
      "source": [
        "23.  Write a code to access the value associated with the key \"name\" in the dictionary {'name': 'Alice', 'age': 30}."
      ],
      "metadata": {
        "id": "UAFqeh-DrA3o"
      }
    },
    {
      "cell_type": "code",
      "source": [
        "dic = {'name': 'Alice', 'age': 30}\n",
        "dic['name']"
      ],
      "metadata": {
        "colab": {
          "base_uri": "https://localhost:8080/",
          "height": 35
        },
        "id": "AnJFR3FUrHUC",
        "outputId": "d262adf0-e8e7-4088-bfa2-1325d200ad61"
      },
      "execution_count": 30,
      "outputs": [
        {
          "output_type": "execute_result",
          "data": {
            "text/plain": [
              "'Alice'"
            ],
            "application/vnd.google.colaboratory.intrinsic+json": {
              "type": "string"
            }
          },
          "metadata": {},
          "execution_count": 30
        }
      ]
    },
    {
      "cell_type": "markdown",
      "source": [
        "24. Write a code to remove the key \"age\" from the dictionary {'name': 'Bob', 'age': 22, 'city': 'New York'}."
      ],
      "metadata": {
        "id": "QC4QU65-rPp1"
      }
    },
    {
      "cell_type": "code",
      "source": [
        "dic1 =  {'name': 'Bob', 'age': 22, 'city': 'New York'}\n",
        "dic1.pop('age')\n",
        "print(dic1)"
      ],
      "metadata": {
        "colab": {
          "base_uri": "https://localhost:8080/"
        },
        "id": "9S75wbvRsElq",
        "outputId": "44d45250-fd39-4d39-8a6c-d4c1c0227014"
      },
      "execution_count": 31,
      "outputs": [
        {
          "output_type": "stream",
          "name": "stdout",
          "text": [
            "{'name': 'Bob', 'city': 'New York'}\n"
          ]
        }
      ]
    },
    {
      "cell_type": "markdown",
      "source": [
        "25. Write a code to check if the key \"city\" exists in the dictionary {'name': 'Alice', 'city': 'Paris'}."
      ],
      "metadata": {
        "id": "mHGBKyopsSRK"
      }
    },
    {
      "cell_type": "code",
      "source": [
        "dic2 = {'name': 'Alice', 'city': 'Paris'}\n",
        "'city' in dic2"
      ],
      "metadata": {
        "colab": {
          "base_uri": "https://localhost:8080/"
        },
        "id": "jvvrL5XOsXJO",
        "outputId": "bed23533-dfb2-4c14-8851-ee9f48d6bc00"
      },
      "execution_count": 32,
      "outputs": [
        {
          "output_type": "execute_result",
          "data": {
            "text/plain": [
              "True"
            ]
          },
          "metadata": {},
          "execution_count": 32
        }
      ]
    },
    {
      "cell_type": "markdown",
      "source": [
        "26. Write a code to create a list, a tuple, and a dictionary, and print them all."
      ],
      "metadata": {
        "id": "wGQQ2kyYsdZh"
      }
    },
    {
      "cell_type": "code",
      "source": [
        "list1 = [1,2,3,\"pinky\",\"yuki\"]\n",
        "print(list1)\n",
        "\n",
        "tuple1 = (1,2,3,\"pinky\",\"yuki\")\n",
        "print(tuple1)\n",
        "\n",
        "dict1 = {'name':'sangeetha','age':25,'city':'hyderabad'}\n",
        "print(dict1)\n"
      ],
      "metadata": {
        "colab": {
          "base_uri": "https://localhost:8080/"
        },
        "id": "JECGxhl8shya",
        "outputId": "e5ddef9e-e437-4087-c824-7d751963fb33"
      },
      "execution_count": 33,
      "outputs": [
        {
          "output_type": "stream",
          "name": "stdout",
          "text": [
            "[1, 2, 3, 'pinky', 'yuki']\n",
            "(1, 2, 3, 'pinky', 'yuki')\n",
            "{'name': 'sangeetha', 'age': 25, 'city': 'hyderabad'}\n"
          ]
        }
      ]
    },
    {
      "cell_type": "markdown",
      "source": [
        "27. Write a code to create a list of 5 random numbers between 1 and 100, sort it in ascending order, and print the\n",
        "result.(replaced)"
      ],
      "metadata": {
        "id": "5LPZL6Mus0T2"
      }
    },
    {
      "cell_type": "code",
      "source": [
        "lis_numbers = [20,35,50,78,99]\n",
        "lis_numbers.sort()\n",
        "print(lis_numbers)"
      ],
      "metadata": {
        "colab": {
          "base_uri": "https://localhost:8080/"
        },
        "id": "3eAhUlOvs5sn",
        "outputId": "4a4e5189-c616-48fe-9548-2d9a9dabd87b"
      },
      "execution_count": 37,
      "outputs": [
        {
          "output_type": "stream",
          "name": "stdout",
          "text": [
            "[20, 35, 50, 78, 99]\n"
          ]
        }
      ]
    },
    {
      "cell_type": "markdown",
      "source": [
        "28.Write a code to create a list with strings and print the element at the third index."
      ],
      "metadata": {
        "id": "qN4ldBfdtRDC"
      }
    },
    {
      "cell_type": "code",
      "source": [
        "strings_list = ['Sangeetha','Pinky','Vijay','Pranjal','Arun']\n",
        "strings_list[3]"
      ],
      "metadata": {
        "colab": {
          "base_uri": "https://localhost:8080/",
          "height": 35
        },
        "id": "TNb1M_y0tT4A",
        "outputId": "af83212c-f99b-446b-9c61-e003072647ad"
      },
      "execution_count": 38,
      "outputs": [
        {
          "output_type": "execute_result",
          "data": {
            "text/plain": [
              "'Pranjal'"
            ],
            "application/vnd.google.colaboratory.intrinsic+json": {
              "type": "string"
            }
          },
          "metadata": {},
          "execution_count": 38
        }
      ]
    },
    {
      "cell_type": "markdown",
      "source": [
        "29.Write a code to combine two dictionaries into one and print the result."
      ],
      "metadata": {
        "id": "CEA2DTtouCF_"
      }
    },
    {
      "cell_type": "code",
      "source": [
        "details = {'name':'sangeetha', 'age': 25, 'role':'data engineer'}\n",
        "loc = {'city':'hyderabad','country':'India'}\n",
        "details.update(loc)\n",
        "print(details)\n"
      ],
      "metadata": {
        "colab": {
          "base_uri": "https://localhost:8080/"
        },
        "id": "PbgQpGnjuHnA",
        "outputId": "e08fabcf-96d2-44c7-d9fa-70a14bfe3f51"
      },
      "execution_count": 39,
      "outputs": [
        {
          "output_type": "stream",
          "name": "stdout",
          "text": [
            "{'name': 'sangeetha', 'age': 25, 'role': 'data engineer', 'city': 'hyderabad', 'country': 'India'}\n"
          ]
        }
      ]
    },
    {
      "cell_type": "markdown",
      "source": [
        "30. Write a code to convert a list of strings into a set."
      ],
      "metadata": {
        "id": "kIoRx47OumCZ"
      }
    },
    {
      "cell_type": "code",
      "source": [
        "list_strings = ['Sangeetha','Pinky','Vijay','Pranjal','Arun','Pinky']\n",
        "set(list_strings)"
      ],
      "metadata": {
        "colab": {
          "base_uri": "https://localhost:8080/"
        },
        "id": "J_aOcWliuowp",
        "outputId": "6f77d478-b075-43d0-ed75-cae5c3bebc3b"
      },
      "execution_count": 41,
      "outputs": [
        {
          "output_type": "execute_result",
          "data": {
            "text/plain": [
              "{'Arun', 'Pinky', 'Pranjal', 'Sangeetha', 'Vijay'}"
            ]
          },
          "metadata": {},
          "execution_count": 41
        }
      ]
    }
  ]
}